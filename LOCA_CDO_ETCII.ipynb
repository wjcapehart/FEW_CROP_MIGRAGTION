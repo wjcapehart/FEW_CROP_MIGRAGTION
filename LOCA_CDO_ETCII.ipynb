{
 "cells": [
  {
   "cell_type": "markdown",
   "metadata": {},
   "source": [
    "# Bash Shell Processing for Climate Change Indicies for our LOCA sets \n",
    "\n",
    "## Intro \n",
    "\n",
    "This script processes the climate data operators to calcualte the ETCCDI indicies relevant to Great Plains Climate Change.\n",
    "\n",
    "ETCCDI reference is here:  [http://etccdi.pacificclimate.org](http://etccdi.pacificclimate.org)\n",
    "\n",
    "CDO Package for ETCCDI refereces are here:n [https://code.mpimet.mpg.de/projects/cdo/embedded/cdo_eca.pdf](https://code.mpimet.mpg.de/projects/cdo/embedded/cdo_eca.pdf)\n",
    "\n"
   ]
  },
  {
   "cell_type": "markdown",
   "metadata": {},
   "source": [
    "## Create LOCA System Variables"
   ]
  },
  {
   "cell_type": "code",
   "execution_count": null,
   "metadata": {},
   "outputs": [],
   "source": [
    "\n",
    "\n",
    "   # setting the Setting the Available ensembles\n",
    "   #   currently only those members that have hits\n",
    "   #   for all three variables!\n",
    "\n",
    "     export -a  ENSEMBLE=( \"ACCESS1-0_r1i1p1\"\n",
    "                           \"ACCESS1-3_r1i1p1\"\n",
    "                           \"CCSM4_r6i1p1\"\n",
    "                           \"CESM1-BGC_r1i1p1\"\n",
    "                           \"CESM1-CAM5_r1i1p1\"\n",
    "                           \"CMCC-CMS_r1i1p1\"\n",
    "                           \"CMCC-CM_r1i1p1\"\n",
    "                           \"CNRM-CM5_r1i1p1\"\n",
    "                           \"CSIRO-Mk3-6-0_r1i1p1\"\n",
    "                           \"CanESM2_r1i1p1\"\n",
    "                           \"FGOALS-g2_r1i1p1\"\n",
    "                           \"GFDL-CM3_r1i1p1\"\n",
    "                           \"GFDL-ESM2G_r1i1p1\"\n",
    "                           \"GFDL-ESM2M_r1i1p1\"\n",
    "                           \"HadGEM2-AO_r1i1p1\"\n",
    "                           \"HadGEM2-CC_r1i1p1\"\n",
    "                           \"HadGEM2-ES_r1i1p1\"\n",
    "                           \"IPSL-CM5A-LR_r1i1p1\"\n",
    "                           \"IPSL-CM5A-MR_r1i1p1\"\n",
    "                           \"MIROC-ESM-CHEM_r1i1p1\"\n",
    "                           \"MIROC-ESM_r1i1p1\"\n",
    "                           \"MIROC5_r1i1p1\"\n",
    "                           \"MPI-ESM-LR_r1i1p1\"\n",
    "                           \"MPI-ESM-MR_r1i1p1\"\n",
    "                           \"MRI-CGCM3_r1i1p1\"\n",
    "                           \"NorESM1-M_r1i1p1\"\n",
    "                           \"bcc-csm1-1-m_r1i1p1\" )\n",
    "                           \n",
    "   # locating local file sysetem directory for the ensembles                        \n",
    "                           \n",
    "     export CLIPPED_LOCA_ROOT=\"/projects/ECEP/LOCA_MACA_Ensembles/LOCA/LOCA_NGP/\"\n",
    "     export  CLIPPED_LOCA_URL=\"http://kyrill.ias.sdsmt.edu:8080/thredds/catalog/LOCA_NGP/\"\n",
    "\n",
    "     \n",
    "   \n"
   ]
  }
 ],
 "metadata": {
  "kernelspec": {
   "display_name": "Bash",
   "language": "bash",
   "name": "bash"
  },
  "language_info": {
   "codemirror_mode": "shell",
   "file_extension": ".sh",
   "mimetype": "text/x-sh",
   "name": "bash"
  }
 },
 "nbformat": 4,
 "nbformat_minor": 2
}
